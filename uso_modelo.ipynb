{
 "cells": [
  {
   "cell_type": "markdown",
   "id": "712e94b1-fb68-4db4-a518-bc3baa6f7e21",
   "metadata": {},
   "source": [
    "El presente notebook se ha diseñado para la carga y uso del modelo ya entrenado, de manera que pueda comprobarse su funcionamiento"
   ]
  },
  {
   "cell_type": "code",
   "execution_count": null,
   "id": "21d9ecce-a7d0-4e98-8047-cac27b603121",
   "metadata": {},
   "outputs": [],
   "source": [
    "!pip3 install protobuf\n",
    "!pip3 install evaluate"
   ]
  },
  {
   "cell_type": "code",
   "execution_count": 22,
   "id": "68508014-6efc-48dc-9b16-81e05747618c",
   "metadata": {},
   "outputs": [],
   "source": [
    "# Se realizan aquí las importaciones\n",
    "import import_ipynb\n",
    "import selenium_tests\n",
    "import yaml\n",
    "from screeninfo import get_monitors\n",
    "from transformers import pipeline, AutoTokenizer, AutoModelForSequenceClassification\n",
    "import evaluate"
   ]
  },
  {
   "cell_type": "code",
   "execution_count": 2,
   "id": "4d65e6ad-e308-469f-8468-311b90182acf",
   "metadata": {},
   "outputs": [],
   "source": [
    "# Dado que el Software implementado está diseñado para pantallas de 4K, se obtienen con ayuda de esta función las pantallas disponibles y su resolución\n",
    "def obtener_info_pantallas():\n",
    "    monitores = get_monitors()\n",
    "\n",
    "    propiedades_monitor = None\n",
    "    ancho_monitor = 0\n",
    "    alto_monitor = 0\n",
    "    i = 0\n",
    "    while i < len(monitores):\n",
    "        if monitores[i].width > ancho_monitor and monitores[i].height > alto_monitor:\n",
    "            propiedades_monitor = monitores[i]\n",
    "\n",
    "        i = i + 1\n",
    "\n",
    "    return propiedades_monitor"
   ]
  },
  {
   "cell_type": "code",
   "execution_count": 26,
   "id": "81587b75-ecc9-4c42-98c8-bf645c34316b",
   "metadata": {},
   "outputs": [
    {
     "name": "stderr",
     "output_type": "stream",
     "text": [
      "Device set to use cpu\n"
     ]
    },
    {
     "name": "stdin",
     "output_type": "stream",
     "text": [
      "\n",
      "Indique qué desea hacer:  campo S\n"
     ]
    },
    {
     "name": "stdout",
     "output_type": "stream",
     "text": [
      "0.011585203930735588\n",
      "[\n",
      "URL: https://impact-neo-ced.enaire.es/#/main/master\n",
      "acciones:\n",
      "  - funcion: hacer_clic\n",
      "    params: \n",
      "      - xpath: //div[contains(@class,\"tab-ws\")]/div/span[contains(text(),\"OPER\") or contains(text(),\"FCST\") or contains(text(),\"SIMU\")]\n",
      "      \n",
      "  - funcion: hacer_clic\n",
      "    params: \n",
      "      - xpath: //span[contains(@class, \"hist-cell ifr-arr\")]\n",
      "      \n",
      "  - funcion: comprobar_contenido_hover\n",
      "    params: \n",
      "      - xpath: //div[@id=\"Flightlist\"]//div[text()=\"D.T/L/P\"]\n",
      "        esperar: //*[contains(text(), \"related\")]\n",
      "        comprobar:\n",
      "          - xpath: //*[contains(text(), \"Delta Time, Vertical Delta and horizontal Delta related to intrusion\")]\n",
      "        tipo_comprobacion: y\n",
      "] <class 'str'>\n",
      "ACCION: {'funcion': 'hacer_clic', 'params': [{'xpath': '//div[contains(@class,\"tab-ws\")]/div/span[contains(text(),\"OPER\") or contains(text(),\"FCST\") or contains(text(),\"SIMU\")]'}]}\n",
      "ACCION: {'funcion': 'hacer_clic', 'params': [{'xpath': '//span[contains(@class, \"hist-cell ifr-arr\")]'}]}\n",
      "ACCION: {'funcion': 'comprobar_contenido_hover', 'params': [{'xpath': '//div[@id=\"Flightlist\"]//div[text()=\"D.T/L/P\"]', 'esperar': '//*[contains(text(), \"related\")]', 'comprobar': [{'xpath': '//*[contains(text(), \"Delta Time, Vertical Delta and horizontal Delta related to intrusion\")]'}], 'tipo_comprobacion': 'y'}]}\n"
     ]
    }
   ],
   "source": [
    "# Se obtienen las propiedades del monitor y Se crea un objeto de Tests, a cuyo constructor pasamos como parámetro las propiedades del monitor con mayor resolución\n",
    "#propiedades_monitor = obtener_info_pantallas()\n",
    "#tests = selenium_tests.Tests(propiedades_monitor)\n",
    "\n",
    "# Se configura el driver\n",
    "#tests.configurar_driver()\n",
    "\n",
    "# Se inicia la sesión\n",
    "#tests.iniciar_sesion(params={})\n",
    "\n",
    "#nombre_modelo = '.\\\\PLANTL-GOB-ES\\\\roberta-large-bne-massive-custom-lora'\n",
    "nombre_modelo = 'roberta-large-bne-massive_peft_fusionado'\n",
    "#nombre_tokenizador = 'roberta-large-bne-massive_peft_fusionado'\n",
    "nombre_tokenizador = './PLANTL-GOB-ES/roberta-large-bne-massive-custom-lora'\n",
    "\n",
    "#nombre_modelo = 'albert-base-10-spanish-finetuned-mldoc_peft_fusionado'\n",
    "#nombre_tokenizador = 'albert-base-10-spanish-finetuned-mldoc_peft_fusionado'\n",
    "#evaluate.load(\"accuracy\")\n",
    "modelo_roberta = AutoModelForSequenceClassification.from_pretrained(nombre_modelo, local_files_only=True)\n",
    "tokenizador_roberta = AutoTokenizer.from_pretrained(nombre_tokenizador, cache_dir='./huggingface_mirror', local_files_only=True, from_pt=True)\n",
    "pipe = pipeline('text-classification', modelo_roberta, tokenizer=tokenizador_roberta)\n",
    "\n",
    "try:\n",
    "    while True:\n",
    "        prueba_a_realizar = input('\\nIndique qué desea hacer: ')\n",
    "        resultado = pipe(prueba_a_realizar)\n",
    "        puntuacion = resultado[0]['score']\n",
    "        print('Puntuación:', puntuacion)\n",
    "        prueba = resultado[0]['label']\n",
    "        \n",
    "        # Se comprueba si se trata de una o de varias pruebas\n",
    "        listado_pruebas = []\n",
    "        if prueba.startswith('[') is False:\n",
    "            print('ENTRA EN 1')\n",
    "            prueba_yaml = yaml.safe_load(prueba)\n",
    "            print(prueba_yaml)\n",
    "            listado_pruebas.append(prueba_yaml)\n",
    "            \n",
    "        else:\n",
    "            prueba = prueba[1:-1]\n",
    "            listado_pruebas = prueba.split('\\nURL:')\n",
    "\n",
    "            # Se eliminan posibles entradas sin información de la lista debido al split\n",
    "            while '' in listado_pruebas:\n",
    "                listado_pruebas.remove('')\n",
    "\n",
    "            # Se genera la lista con los YAML y crea el diccionario correspondiente para cada una de las pruebas a realizar\n",
    "            listado_pruebas = ['\\nURL:' + prueba for prueba in listado_pruebas]\n",
    "            listado_pruebas = [yaml.safe_load(prueba) for prueba in listado_pruebas]\n",
    "            \n",
    "        for prueba_a_realizar in listado_pruebas:\n",
    "            # Se va en primer lugar a la URL correspondiente. De ser la misma en que se encontraba no se ejecutarán acciones adicionales\n",
    "            #tests.ir_a_url(prueba_a_realizar['URL'])\n",
    "\n",
    "            # Se ejecutan a continuación las acciones requeridas\n",
    "            for accion in prueba_a_realizar['acciones']:\n",
    "                print('ACCION:', accion)\n",
    "                #funcion = getattr(tests, accion['funcion'])\n",
    "                #funcion(accion['params'])\n",
    "            \n",
    "        \n",
    "except KeyboardInterrupt:\n",
    "    pass\n",
    "    #tests.cerrar_sesion()"
   ]
  },
  {
   "cell_type": "code",
   "execution_count": null,
   "id": "e0a2eb1f-0c4a-4a5e-9190-df7776ff2a16",
   "metadata": {},
   "outputs": [],
   "source": []
  }
 ],
 "metadata": {
  "kernelspec": {
   "display_name": "Python 3 (ipykernel)",
   "language": "python",
   "name": "python3"
  },
  "language_info": {
   "codemirror_mode": {
    "name": "ipython",
    "version": 3
   },
   "file_extension": ".py",
   "mimetype": "text/x-python",
   "name": "python",
   "nbconvert_exporter": "python",
   "pygments_lexer": "ipython3",
   "version": "3.11.4"
  }
 },
 "nbformat": 4,
 "nbformat_minor": 5
}
